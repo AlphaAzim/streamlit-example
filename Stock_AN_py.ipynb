{
  "nbformat": 4,
  "nbformat_minor": 0,
  "metadata": {
    "colab": {
      "provenance": [],
      "authorship_tag": "ABX9TyPYmRzjgXSCax5fkYsbe6Pk",
      "include_colab_link": true
    },
    "kernelspec": {
      "name": "python3",
      "display_name": "Python 3"
    },
    "language_info": {
      "name": "python"
    }
  },
  "cells": [
    {
      "cell_type": "markdown",
      "metadata": {
        "id": "view-in-github",
        "colab_type": "text"
      },
      "source": [
        "<a href=\"https://colab.research.google.com/github/AlphaAzim/streamlit-example/blob/master/Stock_AN_py.ipynb\" target=\"_parent\"><img src=\"https://colab.research.google.com/assets/colab-badge.svg\" alt=\"Open In Colab\"/></a>"
      ]
    },
    {
      "cell_type": "code",
      "execution_count": 3,
      "metadata": {
        "colab": {
          "base_uri": "https://localhost:8080/",
          "height": 130
        },
        "id": "u-jjfB4MUCzi",
        "outputId": "80d67b0a-fcb2-49fc-9b90-07ef42148cc4"
      },
      "outputs": [
        {
          "output_type": "error",
          "ename": "SyntaxError",
          "evalue": "ignored",
          "traceback": [
            "\u001b[0;36m  File \u001b[0;32m\"<ipython-input-3-b923b936339b>\"\u001b[0;36m, line \u001b[0;32m110\u001b[0m\n\u001b[0;31m    streamlit run stock_analysis.py\u001b[0m\n\u001b[0m              ^\u001b[0m\n\u001b[0;31mSyntaxError\u001b[0m\u001b[0;31m:\u001b[0m invalid syntax\n"
          ]
        }
      ],
      "source": [
        "import yfinance as yf\n",
        "import streamlit as st\n",
        "import matplotlib.pyplot as plt\n",
        "\n",
        "def get_realtime_data(ticker_symbols):\n",
        "    stock_data = {}\n",
        "    for symbol in ticker_symbols:\n",
        "        stock = yf.Ticker(symbol)\n",
        "        info = stock.info\n",
        "\n",
        "        stock_data[symbol] = {\n",
        "            \"Price\": info.get(\"regularMarketPrice\", \"N/A\"),\n",
        "            \"EPS\": info.get(\"trailingEps\", \"N/A\"),\n",
        "            \"PE Ratio\": info.get(\"trailingPE\", \"N/A\"),\n",
        "            \"Profit Margin\": info.get(\"profitMargins\", \"N/A\"),\n",
        "            \"Market Cap\": info.get(\"marketCap\", \"N/A\"),\n",
        "            \"Bid\": info.get(\"bid\", \"N/A\"),\n",
        "            \"Ask\": info.get(\"ask\", \"N/A\"),\n",
        "            \"Open\": info.get(\"regularMarketOpen\", \"N/A\"),\n",
        "            \"Close\": info.get(\"regularMarketPreviousClose\", \"N/A\"),\n",
        "            \"52 Week Range\": info.get(\"fiftyTwoWeekLow\", \"N/A\"),\n",
        "            \"Volume\": info.get(\"regularMarketVolume\", \"N/A\"),\n",
        "            \"Avg Volume\": info.get(\"averageDailyVolume10Day\", \"N/A\"),\n",
        "        }\n",
        "\n",
        "    return stock_data\n",
        "\n",
        "def plot_price_graph(symbol, show_ma=False):\n",
        "    stock = yf.Ticker(symbol)\n",
        "    df = stock.history(period=\"1d\", interval=\"1m\")\n",
        "\n",
        "    if len(df) >= 2:\n",
        "        fig, ax = plt.subplots(figsize=(12, 6))\n",
        "        plt.subplots_adjust(bottom=0.2)\n",
        "        line, = ax.plot(df.index, df[\"Close\"], label=f\"{symbol} Price\", color=\"b\")\n",
        "        plt.xlabel(\"Time\")\n",
        "        plt.ylabel(\"Price (USD)\")\n",
        "        plt.title(f\"{symbol} Stock Price\")\n",
        "        ax.legend()\n",
        "\n",
        "        if show_ma:\n",
        "            ma_20 = df[\"Close\"].rolling(window=20).mean()\n",
        "            ma_50 = df[\"Close\"].rolling(window=50).mean()\n",
        "            ax.plot(df.index, ma_20, label=\"20-day MA\", color=\"g\")\n",
        "            ax.plot(df.index, ma_50, label=\"50-day MA\", color=\"r\")\n",
        "\n",
        "        plt.grid(True)\n",
        "\n",
        "        # Add labels for moving averages to the legend\n",
        "        if show_ma:\n",
        "            handles, labels = ax.get_legend_handles_labels()\n",
        "            labels = [f\"{label} ({handle.get_color()})\" for handle, label in zip(handles, labels)]\n",
        "            ax.legend(handles, labels)\n",
        "\n",
        "        # Show the plot using Streamlit's st.pyplot() function\n",
        "        st.pyplot(fig)\n",
        "\n",
        "        # Close the plot to avoid potential memory leaks\n",
        "        plt.close()\n",
        "\n",
        "    else:\n",
        "        st.write(f\"Not enough data available for {symbol} to plot the price graph.\")\n",
        "\n",
        "def analyze_data(data):\n",
        "    analysis = {}\n",
        "    for symbol, stock_data in data.items():\n",
        "        if stock_data[\"Price\"] == \"N/A\" or stock_data[\"Close\"] == \"N/A\":\n",
        "            analysis[symbol] = \"Not enough data for analysis\"\n",
        "        else:\n",
        "            if stock_data[\"Price\"] > stock_data[\"Close\"]:\n",
        "                analysis[symbol] = \"Recommendation: Buy\"\n",
        "            elif stock_data[\"Price\"] < stock_data[\"Close\"]:\n",
        "                analysis[symbol] = \"Recommendation: Sell\"\n",
        "            else:\n",
        "                analysis[symbol] = \"Recommendation: Hold\"\n",
        "\n",
        "    return analysis\n",
        "\n",
        "def main():\n",
        "    st.set_page_config(page_title=\"Stock Analysis App\", page_icon=\":chart_with_upwards_trend:\")\n",
        "\n",
        "    st.title(\"Stock Analysis App\")\n",
        "    st.write(\"Enter stock symbols separated by commas (e.g., AAPL, MSFT)\")\n",
        "\n",
        "    user_input = st.text_input(\"Enter stock symbols:\")\n",
        "    nyse_ticker_symbols = [symbol.strip().upper() for symbol in user_input.split(\",\")]\n",
        "\n",
        "    if st.button(\"Fetch Real-Time Data\"):\n",
        "        try:\n",
        "            realtime_data = get_realtime_data(nyse_ticker_symbols)\n",
        "\n",
        "            for symbol, data in realtime_data.items():\n",
        "                st.write(f\"\\n{symbol} Real-Time Data:\")\n",
        "                for key, value in data.items():\n",
        "                    st.write(f\"{key}: {value}\")\n",
        "\n",
        "                plot_ma_option = st.checkbox(f\"Show 20-day and 50-day moving averages for {symbol}\")\n",
        "                plot_price_graph(symbol, show_ma=plot_ma_option)\n",
        "\n",
        "            recommendations = analyze_data(realtime_data)\n",
        "            st.write(\"\\nAnalysis and Recommendations:\")\n",
        "            for symbol, recommendation in recommendations.items():\n",
        "                st.write(f\"{symbol}: {recommendation}\")\n",
        "\n",
        "        except Exception as e:\n",
        "            st.error(f\"Error fetching real-time data: {e}\")\n",
        "\n",
        "if __name__ == \"__main__\":\n",
        "    main()\n",
        "\n"
      ]
    }
  ]
}